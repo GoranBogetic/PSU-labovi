{
 "cells": [
  {
   "cell_type": "code",
   "execution_count": 1,
   "metadata": {},
   "outputs": [
    {
     "data": {
      "image/png": "[encoded data removed]",
      "text/plain": [
       "<Figure size 640x480 with 1 Axes>"
      ]
     },
     "metadata": {},
     "output_type": "display_data"
    }
   ],
   "source": [
    "import gymnasium as gym\n",
    "import numpy as np\n",
    "import matplotlib.pyplot as plt\n",
    "import pickle\n",
    "\n",
    "def run(episodes, is_training=True, render=False):\n",
    "\n",
    "    env = gym.make('FrozenLake-v1', map_name=\"8x8\", is_slippery=True, render_mode='human' if render else None)\n",
    "\n",
    "    if(is_training):\n",
    "        q = np.zeros((env.observation_space.n, env.action_space.n)) # init a 64 x 4 array\n",
    "    else:\n",
    "        f = open('frozen_lake8x8.pkl', 'rb')\n",
    "        q = pickle.load(f)\n",
    "        f.close()\n",
    "\n",
    "    learning_rate_a = 0.9 # alpha or learning rate\n",
    "    discount_factor_g = 0.9 # gamma or discount rate. Near 0: more weight/reward placed on immediate state. Near 1: more on future state.\n",
    "    epsilon = 1         # 1 = 100% random actions\n",
    "    epsilon_decay_rate = 0.0001        # epsilon decay rate. 1/0.0001 = 10,000\n",
    "    rng = np.random.default_rng()   # random number generator\n",
    "\n",
    "    rewards_per_episode = np.zeros(episodes)\n",
    "\n",
    "    for i in range(episodes):\n",
    "        state = env.reset()[0]  # states: 0 to 63, 0=top left corner,63=bottom right corner\n",
    "        terminated = False      # True when fall in hole or reached goal\n",
    "        truncated = False       # True when actions > 200\n",
    "\n",
    "        while(not terminated and not truncated):\n",
    "            if is_training and rng.random() < epsilon:\n",
    "                action = env.action_space.sample() # actions: 0=left,1=down,2=right,3=up\n",
    "            else:\n",
    "                action = np.argmax(q[state,:])\n",
    "\n",
    "            new_state,reward,terminated,truncated,_ = env.step(action)\n",
    "\n",
    "            if is_training:\n",
    "                q[state,action] = q[state,action] + learning_rate_a * (\n",
    "                    reward + discount_factor_g * np.max(q[new_state,:]) - q[state,action]\n",
    "                )\n",
    "\n",
    "            state = new_state\n",
    "\n",
    "        epsilon = max(epsilon - epsilon_decay_rate, 0)\n",
    "\n",
    "        if(epsilon==0):\n",
    "            learning_rate_a = 0.0001\n",
    "\n",
    "        if reward == 1:\n",
    "            rewards_per_episode[i] = 1\n",
    "\n",
    "    env.close()\n",
    "\n",
    "    sum_rewards = np.zeros(episodes)\n",
    "    for t in range(episodes):\n",
    "        sum_rewards[t] = np.sum(rewards_per_episode[max(0, t-100):(t+1)])\n",
    "    plt.plot(sum_rewards)\n",
    "    plt.savefig('frozen_lake8x8.png')\n",
    "\n",
    "    if is_training:\n",
    "        f = open(\"frozen_lake8x8.pkl\",\"wb\")\n",
    "        pickle.dump(q, f)\n",
    "        f.close()\n",
    "\n",
    "if __name__ == '__main__':\n",
    "    # run(15000)\n",
    "\n",
    "    run(1000, is_training=True, render=False)"
   ]
  },
  {
   "cell_type": "code",
   "execution_count": null,
   "metadata": {},
   "outputs": [],
   "source": []
  }
 ],
 "metadata": {
  "kernelspec": {
   "display_name": "Python 3",
   "language": "python",
   "name": "python3"
  },
  "language_info": {
   "codemirror_mode": {
    "name": "ipython",
    "version": 3
   },
   "file_extension": ".py",
   "mimetype": "text/x-python",
   "name": "python",
   "nbconvert_exporter": "python",
   "pygments_lexer": "ipython3",
   "version": "3.12.3"
  }
 },
 "nbformat": 4,
 "nbformat_minor": 2
}
